{
 "cells": [
  {
   "cell_type": "code",
   "execution_count": 0,
   "metadata": {
    "application/vnd.databricks.v1+cell": {
     "cellMetadata": {},
     "inputWidgets": {},
     "nuid": "92139663-5dcd-4474-8dd0-ba6253fd9385",
     "showTitle": false,
     "tableResultSettingsMap": {},
     "title": ""
    }
   },
   "outputs": [],
   "source": [
    "USE f1_processed;"
   ]
  },
  {
   "cell_type": "code",
   "execution_count": 0,
   "metadata": {
    "application/vnd.databricks.v1+cell": {
     "cellMetadata": {},
     "inputWidgets": {},
     "nuid": "20cc6e7c-8b70-42e3-88a1-14984621d8b1",
     "showTitle": false,
     "tableResultSettingsMap": {},
     "title": ""
    }
   },
   "outputs": [],
   "source": [
    "CREATE TABLE f1_presentation.calculated_race_results\n",
    "USING parquet\n",
    "AS \n",
    "SELECT races.race_year,\n",
    "       constructors.name AS team_name,\n",
    "       drivers.name AS driver_name,\n",
    "       results.position,\n",
    "       results.points,\n",
    "       11 - results.position AS calculated_points\n",
    " FROM results\n",
    " JOIN f1_processed.drivers ON (results.driver_id = drivers.drivers_id)\n",
    " JOIN f1_processed.constructors ON(results.constructor_id = constructors.constructor_id)\n",
    " JOIN f1_processed.races ON (results.race_id = races.race_id)\n",
    " WHERE results.position <= 10"
   ]
  },
  {
   "cell_type": "code",
   "execution_count": 0,
   "metadata": {
    "application/vnd.databricks.v1+cell": {
     "cellMetadata": {},
     "inputWidgets": {},
     "nuid": "5fc9572d-d921-4a59-add1-ecb878287dc1",
     "showTitle": false,
     "tableResultSettingsMap": {},
     "title": ""
    }
   },
   "outputs": [],
   "source": [
    "SELECT * FROM f1_presentation.calculated_race_results"
   ]
  }
 ],
 "metadata": {
  "application/vnd.databricks.v1+notebook": {
   "computePreferences": null,
   "dashboards": [],
   "environmentMetadata": {
    "base_environment": "",
    "environment_version": "2"
   },
   "language": "sql",
   "notebookMetadata": {},
   "notebookName": "4.calculated_race_results",
   "widgets": {}
  },
  "language_info": {
   "name": "sql"
  }
 },
 "nbformat": 4,
 "nbformat_minor": 0
}
